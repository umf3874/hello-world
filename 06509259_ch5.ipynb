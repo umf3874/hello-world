{
 "cells": [
  {
   "cell_type": "markdown",
   "metadata": {},
   "source": [
    "5.1"
   ]
  },
  {
   "cell_type": "code",
   "execution_count": 3,
   "metadata": {},
   "outputs": [
    {
     "data": {
      "text/plain": [
       "'jksafdhllsfgKUYFVUJHah'"
      ]
     },
     "execution_count": 3,
     "metadata": {},
     "output_type": "execute_result"
    }
   ],
   "source": [
    "def filter_chars(text):\n",
    "    b = ''.join([e for e in text if e.isalpha()])\n",
    "    return b\n",
    "\n",
    "filter_chars('jksafd25hll87sfgKU2YF7VUJHah')"
   ]
  },
  {
   "cell_type": "markdown",
   "metadata": {},
   "source": [
    "5.2"
   ]
  },
  {
   "cell_type": "code",
   "execution_count": 21,
   "metadata": {},
   "outputs": [
    {
     "data": {
      "text/plain": [
       "True"
      ]
     },
     "execution_count": 21,
     "metadata": {},
     "output_type": "execute_result"
    }
   ],
   "source": [
    "def if_preserve(ope1,ope2):\n",
    "    return ope1 in [\"*\",\"/\"] and ope2 in [\"+\",\"-\"]\n",
    "compare('/', '+')"
   ]
  },
  {
   "cell_type": "code",
   "execution_count": 23,
   "metadata": {},
   "outputs": [],
   "source": [
    "def run(num,ope):\n",
    "    op = ope.pop()\n",
    "    num2 = num.pop()\n",
    "    num1 = num.pop()\n",
    "    if op==\"+\":\n",
    "        num.append(num1+num2)\n",
    "    elif op==\"-\":\n",
    "        num.append(num1-num2)\n",
    "    elif op==\"*\":\n",
    "        num.append(num1*num2)\n",
    "    elif op==\"/\":\n",
    "        num.append(num1/num2)\n",
    "\n",
    "def calculate(s):\n",
    "    num=[]\n",
    "    ope=[]\n",
    "    i=0\n",
    "    while i<len(s):\n",
    "        if s[i].isdigit():\n",
    "            i0=i\n",
    "            while i+1<len(s) and s[i+1].isdigit():\n",
    "                i+=1\n",
    "            num.append(int(s[i0:i+1]))\n",
    "        elif not ope:\n",
    "            ope.append(s[i])\n",
    "        elif if_preserve(s[i],ope[-1]):\n",
    "            ope.append(s[i])\n",
    "        else:\n",
    "            while ope and not if_preserve(s[i],ope[-1]):\n",
    "                run(num,ope)\n",
    "            ope.append(s[i])\n",
    "        i+=1\n",
    "    while ope:\n",
    "        run(num,ope)\n",
    "    return num.pop()\n",
    "\n",
    "\n"
   ]
  },
  {
   "cell_type": "code",
   "execution_count": 24,
   "metadata": {},
   "outputs": [
    {
     "name": "stdout",
     "output_type": "stream",
     "text": [
      "-316224\n"
     ]
    }
   ],
   "source": [
    "print(calculate(\"342*288-720*576\"))"
   ]
  },
  {
   "cell_type": "markdown",
   "metadata": {},
   "source": [
    "5.3"
   ]
  },
  {
   "cell_type": "code",
   "execution_count": 29,
   "metadata": {},
   "outputs": [
    {
     "name": "stdout",
     "output_type": "stream",
     "text": [
      "True\n",
      "{0: True, 1: 6, 2: 1, 3: 1, 4: 9}\n"
     ]
    }
   ],
   "source": [
    "\n",
    "import random\n",
    "import math\n",
    "\n",
    "def compare(ope1,ope2):\n",
    "    return ope1 in [\"s\",\"p\",\"l\",\"*\",\"/\"] and ope2 in [\"+\",\"-\"]\n",
    "\n",
    "def run(num,ope):\n",
    "    op = ope.pop()\n",
    "    num2 = num.pop()\n",
    "    num1 = num.pop()\n",
    "    if op==\"+\":\n",
    "        num.append(num1+num2)\n",
    "    elif op==\"-\":\n",
    "        num.append(num1-num2)\n",
    "    elif op==\"*\":\n",
    "        num.append(num1*num2)\n",
    "    elif op==\"/\":\n",
    "        num.append(num1/num2)\n",
    "    elif op==\"l\":\n",
    "        num.append(math.log(num2,num1))\n",
    "    elif op==\"p\":\n",
    "        num.append(pow(num1,num2))\n",
    "    elif op==\"s\":\n",
    "        num.append(pow(num1,1/num2))\n",
    "\n",
    "def is24(s):\n",
    "    try:\n",
    "        num=[]\n",
    "        ope=[]\n",
    "        i=0\n",
    "        while i<len(s):\n",
    "            if s[i].isdigit():\n",
    "                i0=i\n",
    "                while i+1<len(s) and s[i+1].isdigit():\n",
    "                    i+=1\n",
    "                num.append(int(s[i0:i+1]))\n",
    "            elif s[i] == \")\":\n",
    "                while ope[-1] != \"(\":\n",
    "                    run(num, ope)\n",
    "                ope.pop()\n",
    "            elif not ope or ope[-1] == \"(\":\n",
    "                ope.append(s[i])\n",
    "            elif s[i] == \"(\" or compare(s[i],ope[-1]):\n",
    "                ope.append(s[i])\n",
    "            else:\n",
    "                while ope and not compare(s[i],ope[-1]):\n",
    "                    if ope[-1] == \"(\":\n",
    "                        break\n",
    "                    run(num,ope)\n",
    "                ope.append(s[i])\n",
    "            i+=1\n",
    "        while ope:\n",
    "            run(num, ope)\n",
    "        return True if num.pop()==24 else False\n",
    "    except:\n",
    "        return False\n",
    "\n",
    "def M_s(x,y):\n",
    "    sf=[\"s\",\"p\",\"l\",\"*\",\"/\",\"+\",\"-\"]\n",
    "    sn=[\"\"]*4\n",
    "    sn[x-1]+=\"(\"\n",
    "    for i in range(4):\n",
    "        sn[i]+=str(n[i+1])\n",
    "    sn[y-1]+=\")\"\n",
    "    for i in range(7):\n",
    "        for j in range(7):\n",
    "            for k in range(7):\n",
    "                if i!=7 or j!=7 or k!=7:\n",
    "                    s=sn[0]+sf[i]+sn[1]+sf[j]+sn[2]+sf[k]+sn[3]\n",
    "                    M[str(x)+\",\"+str(y)].append(s)\n",
    "def if24():\n",
    "    for i in range(1,4):\n",
    "        for j in range(i+1,5):\n",
    "            M_s(i,j)\n",
    "            for k in M[str(i)+\",\"+str(j)]:\n",
    "                if is24(k):\n",
    "                    print(\"True\")\n",
    "                    return True\n",
    "        if i==3:\n",
    "            print(\"False\")\n",
    "            return False\n",
    "\n",
    "M={\"1,2\":[],\"1,3\":[],\"1,4\":[],\"2,3\":[],\"2,4\":[],\"3,4\":[]}\n",
    "n={}\n",
    "\n",
    "if __name__=='__main__':\n",
    "    n[1]=random.randint(1,10)\n",
    "    n[2]=random.randint(1,10)\n",
    "    n[3]=random.randint(1,10)\n",
    "    n[4]=random.randint(1,10)\n",
    "    n[0] = if24()\n",
    "    print(n)\n"
   ]
  },
  {
   "cell_type": "code",
   "execution_count": null,
   "metadata": {},
   "outputs": [],
   "source": []
  }
 ],
 "metadata": {
  "kernelspec": {
   "display_name": "Python 3",
   "language": "python",
   "name": "python3"
  },
  "language_info": {
   "codemirror_mode": {
    "name": "ipython",
    "version": 3
   },
   "file_extension": ".py",
   "mimetype": "text/x-python",
   "name": "python",
   "nbconvert_exporter": "python",
   "pygments_lexer": "ipython3",
   "version": "3.5.6"
  }
 },
 "nbformat": 4,
 "nbformat_minor": 2
}
